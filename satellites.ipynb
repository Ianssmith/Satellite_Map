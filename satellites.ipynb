{
 "cells": [
  {
   "cell_type": "code",
   "execution_count": 8,
   "metadata": {
    "collapsed": false
   },
   "outputs": [
    {
     "ename": "NameError",
     "evalue": "name 'pylab' is not defined",
     "output_type": "error",
     "traceback": [
      "\u001b[0;31m---------------------------------------------------------------------------\u001b[0m",
      "\u001b[0;31mNameError\u001b[0m                                 Traceback (most recent call last)",
      "\u001b[0;32m<ipython-input-8-cf0ed7f8d721>\u001b[0m in \u001b[0;36m<module>\u001b[0;34m()\u001b[0m\n\u001b[1;32m      5\u001b[0m \u001b[0;32mimport\u001b[0m \u001b[0mmatplotlib\u001b[0m\u001b[0;34m.\u001b[0m\u001b[0mpyplot\u001b[0m \u001b[0;32mas\u001b[0m \u001b[0mplt\u001b[0m\u001b[0;34m\u001b[0m\u001b[0m\n\u001b[1;32m      6\u001b[0m \u001b[0mget_ipython\u001b[0m\u001b[0;34m(\u001b[0m\u001b[0;34m)\u001b[0m\u001b[0;34m.\u001b[0m\u001b[0mmagic\u001b[0m\u001b[0;34m(\u001b[0m\u001b[0;34m'matplotlib inline'\u001b[0m\u001b[0;34m)\u001b[0m\u001b[0;34m\u001b[0m\u001b[0m\n\u001b[0;32m----> 7\u001b[0;31m \u001b[0;34m-\u001b[0m\u001b[0;34m-\u001b[0m\u001b[0mpylab\u001b[0m\u001b[0;34m\u001b[0m\u001b[0m\n\u001b[0m",
      "\u001b[0;31mNameError\u001b[0m: name 'pylab' is not defined"
     ]
    }
   ],
   "source": [
    "import numpy as np\n",
    "import scipy as sp\n",
    "from pandas import Series, DataFrame\n",
    "import pandas as pd\n",
    "import matplotlib.pyplot as plt\n",
    "%matplotlib inline\n",
    "--pylab"
   ]
  },
  {
   "cell_type": "code",
   "execution_count": 9,
   "metadata": {
    "collapsed": false
   },
   "outputs": [
    {
     "name": "stdout",
     "output_type": "stream",
     "text": [
      "(1381, 254)\n"
     ]
    },
    {
     "data": {
      "text/html": [
       "<div>\n",
       "<table border=\"1\" class=\"dataframe\">\n",
       "  <thead>\n",
       "    <tr style=\"text-align: right;\">\n",
       "      <th></th>\n",
       "      <th>Name of Satellite, Alternate Names</th>\n",
       "      <th>Country/Org of UN Registry</th>\n",
       "      <th>Country of Operator/Owner</th>\n",
       "      <th>Operator/Owner</th>\n",
       "      <th>Users</th>\n",
       "      <th>Purpose</th>\n",
       "      <th>Detailed Purpose</th>\n",
       "      <th>Class of Orbit</th>\n",
       "      <th>Type of Orbit</th>\n",
       "      <th>Longitude of GEO (degrees)</th>\n",
       "      <th>...</th>\n",
       "      <th>Power (watts)</th>\n",
       "      <th>Date of Launch</th>\n",
       "      <th>Expected Lifetime</th>\n",
       "      <th>Contractor</th>\n",
       "      <th>Country of Contractor</th>\n",
       "      <th>Launch Site</th>\n",
       "      <th>Launch Vehicle</th>\n",
       "      <th>COSPAR Number</th>\n",
       "      <th>NORAD Number</th>\n",
       "      <th>Comments</th>\n",
       "    </tr>\n",
       "  </thead>\n",
       "  <tbody>\n",
       "    <tr>\n",
       "      <th>0</th>\n",
       "      <td>AAUSat-5 (Aalborg University Cubesat 5)</td>\n",
       "      <td>NR (12/15)</td>\n",
       "      <td>Denmark</td>\n",
       "      <td>Aalborg University</td>\n",
       "      <td>Civil</td>\n",
       "      <td>Communications</td>\n",
       "      <td>Automatic Identification System (AIS)</td>\n",
       "      <td>LEO</td>\n",
       "      <td>Non-Polar Inclined</td>\n",
       "      <td>0.00</td>\n",
       "      <td>...</td>\n",
       "      <td>NaN</td>\n",
       "      <td>10/2/2015</td>\n",
       "      <td>NaN</td>\n",
       "      <td>Aalborg University</td>\n",
       "      <td>Denmark</td>\n",
       "      <td>International Space Station</td>\n",
       "      <td>Nanorack Deployer</td>\n",
       "      <td>1998-067GZ</td>\n",
       "      <td>40948</td>\n",
       "      <td>Main goal is to test a AIS receiver built by s...</td>\n",
       "    </tr>\n",
       "    <tr>\n",
       "      <th>1</th>\n",
       "      <td>ABS-2 (Koreasat-8, ST-3)</td>\n",
       "      <td>NR</td>\n",
       "      <td>Multinational</td>\n",
       "      <td>Asia Broadcast Satellite Ltd.</td>\n",
       "      <td>Commercial</td>\n",
       "      <td>Communications</td>\n",
       "      <td>NaN</td>\n",
       "      <td>GEO</td>\n",
       "      <td>NaN</td>\n",
       "      <td>75.00</td>\n",
       "      <td>...</td>\n",
       "      <td>16,000</td>\n",
       "      <td>2/6/2014</td>\n",
       "      <td>15 yrs.</td>\n",
       "      <td>Space Systems/Loral</td>\n",
       "      <td>USA</td>\n",
       "      <td>Guiana Space Center</td>\n",
       "      <td>Ariane  5 ECA</td>\n",
       "      <td>2014-006A</td>\n",
       "      <td>39508</td>\n",
       "      <td>32 C-band, 51 Ku-band, and 6 Ka-band transpond...</td>\n",
       "    </tr>\n",
       "    <tr>\n",
       "      <th>2</th>\n",
       "      <td>ABS-3 (Agila 2, Mabuhay 1)</td>\n",
       "      <td>Philippines</td>\n",
       "      <td>Multinational</td>\n",
       "      <td>Asia Broadcast Satellite Ltd.</td>\n",
       "      <td>Commercial</td>\n",
       "      <td>Communications</td>\n",
       "      <td>NaN</td>\n",
       "      <td>GEO</td>\n",
       "      <td>NaN</td>\n",
       "      <td>146.06</td>\n",
       "      <td>...</td>\n",
       "      <td>9,000</td>\n",
       "      <td>8/19/1997</td>\n",
       "      <td>15 yrs.</td>\n",
       "      <td>Space Systems/Loral</td>\n",
       "      <td>USA</td>\n",
       "      <td>Xichang Satellite Launch Center</td>\n",
       "      <td>Long March CZ3B</td>\n",
       "      <td>1997-042A</td>\n",
       "      <td>24901</td>\n",
       "      <td>Most powerful telecommunications satellite in ...</td>\n",
       "    </tr>\n",
       "    <tr>\n",
       "      <th>3</th>\n",
       "      <td>ABS-3A</td>\n",
       "      <td>NR</td>\n",
       "      <td>Multinational</td>\n",
       "      <td>Asia Broadcast Satellite Ltd.</td>\n",
       "      <td>Commercial</td>\n",
       "      <td>Communications</td>\n",
       "      <td>NaN</td>\n",
       "      <td>GEO</td>\n",
       "      <td>NaN</td>\n",
       "      <td>-3.00</td>\n",
       "      <td>...</td>\n",
       "      <td>NaN</td>\n",
       "      <td>3/2/2015</td>\n",
       "      <td>15 yrs.</td>\n",
       "      <td>Boeing Satellite Systems</td>\n",
       "      <td>NaN</td>\n",
       "      <td>Cape Canaveral</td>\n",
       "      <td>Falcon 9</td>\n",
       "      <td>2015-010A</td>\n",
       "      <td>40424</td>\n",
       "      <td>Coverage of Americas Europe and Africa.</td>\n",
       "    </tr>\n",
       "    <tr>\n",
       "      <th>4</th>\n",
       "      <td>ABS-4 (ABS-2i, MBSat, Mobile Broadcasting Sate...</td>\n",
       "      <td>NR</td>\n",
       "      <td>Multinational</td>\n",
       "      <td>Asia Broadcast Satellite Ltd.</td>\n",
       "      <td>Commercial</td>\n",
       "      <td>Communications</td>\n",
       "      <td>NaN</td>\n",
       "      <td>GEO</td>\n",
       "      <td>NaN</td>\n",
       "      <td>75.00</td>\n",
       "      <td>...</td>\n",
       "      <td>7,400</td>\n",
       "      <td>3/13/2004</td>\n",
       "      <td>12 yrs.</td>\n",
       "      <td>Space Systems/Loral</td>\n",
       "      <td>USA</td>\n",
       "      <td>Cape Canaveral</td>\n",
       "      <td>Atlas 3</td>\n",
       "      <td>2004-007A</td>\n",
       "      <td>28184</td>\n",
       "      <td>Purchased by ABS in 2013.</td>\n",
       "    </tr>\n",
       "  </tbody>\n",
       "</table>\n",
       "<p>5 rows × 27 columns</p>\n",
       "</div>"
      ],
      "text/plain": [
       "                  Name of Satellite, Alternate Names  \\\n",
       "0            AAUSat-5 (Aalborg University Cubesat 5)   \n",
       "1                           ABS-2 (Koreasat-8, ST-3)   \n",
       "2                         ABS-3 (Agila 2, Mabuhay 1)   \n",
       "3                                            ABS-3A    \n",
       "4  ABS-4 (ABS-2i, MBSat, Mobile Broadcasting Sate...   \n",
       "\n",
       "  Country/Org of UN Registry Country of Operator/Owner  \\\n",
       "0                 NR (12/15)                   Denmark   \n",
       "1                         NR             Multinational   \n",
       "2                Philippines             Multinational   \n",
       "3                         NR             Multinational   \n",
       "4                         NR             Multinational   \n",
       "\n",
       "                  Operator/Owner       Users         Purpose  \\\n",
       "0             Aalborg University       Civil  Communications   \n",
       "1  Asia Broadcast Satellite Ltd.  Commercial  Communications   \n",
       "2  Asia Broadcast Satellite Ltd.  Commercial  Communications   \n",
       "3  Asia Broadcast Satellite Ltd.  Commercial  Communications   \n",
       "4  Asia Broadcast Satellite Ltd.  Commercial  Communications   \n",
       "\n",
       "                        Detailed Purpose Class of Orbit       Type of Orbit  \\\n",
       "0  Automatic Identification System (AIS)            LEO  Non-Polar Inclined   \n",
       "1                                    NaN            GEO                 NaN   \n",
       "2                                    NaN            GEO                 NaN   \n",
       "3                                    NaN            GEO                 NaN   \n",
       "4                                    NaN            GEO                 NaN   \n",
       "\n",
       "   Longitude of GEO (degrees)  \\\n",
       "0                        0.00   \n",
       "1                       75.00   \n",
       "2                      146.06   \n",
       "3                       -3.00   \n",
       "4                       75.00   \n",
       "\n",
       "                         ...                         Power (watts)  \\\n",
       "0                        ...                                   NaN   \n",
       "1                        ...                                16,000   \n",
       "2                        ...                                 9,000   \n",
       "3                        ...                                   NaN   \n",
       "4                        ...                                 7,400   \n",
       "\n",
       "  Date of Launch  Expected Lifetime                Contractor  \\\n",
       "0      10/2/2015                NaN        Aalborg University   \n",
       "1       2/6/2014            15 yrs.       Space Systems/Loral   \n",
       "2      8/19/1997            15 yrs.       Space Systems/Loral   \n",
       "3       3/2/2015            15 yrs.  Boeing Satellite Systems   \n",
       "4      3/13/2004            12 yrs.       Space Systems/Loral   \n",
       "\n",
       "  Country of Contractor                      Launch Site     Launch Vehicle  \\\n",
       "0               Denmark      International Space Station  Nanorack Deployer   \n",
       "1                   USA              Guiana Space Center      Ariane  5 ECA   \n",
       "2                   USA  Xichang Satellite Launch Center    Long March CZ3B   \n",
       "3                   NaN                   Cape Canaveral           Falcon 9   \n",
       "4                   USA                   Cape Canaveral            Atlas 3   \n",
       "\n",
       "  COSPAR Number NORAD Number  \\\n",
       "0    1998-067GZ        40948   \n",
       "1     2014-006A        39508   \n",
       "2     1997-042A        24901   \n",
       "3     2015-010A        40424   \n",
       "4     2004-007A        28184   \n",
       "\n",
       "                                            Comments  \n",
       "0  Main goal is to test a AIS receiver built by s...  \n",
       "1  32 C-band, 51 Ku-band, and 6 Ka-band transpond...  \n",
       "2  Most powerful telecommunications satellite in ...  \n",
       "3            Coverage of Americas Europe and Africa.  \n",
       "4                          Purchased by ABS in 2013.  \n",
       "\n",
       "[5 rows x 27 columns]"
      ]
     },
     "execution_count": 9,
     "metadata": {},
     "output_type": "execute_result"
    }
   ],
   "source": [
    "data = pd.read_table('Fsatellites.tsv', encoding = \"ISO-8859-1\")\n",
    "print(data.shape)\n",
    "\n",
    "for col in data.columns:\n",
    "    if 'Unnamed' in col:\n",
    "        del data[col]\n",
    "        \n",
    "for col in data.columns:\n",
    "    if 'Source' in col:\n",
    "        del data[col]\n",
    "data.head()\n",
    "#data = data.fillna(data.min())\n"
   ]
  },
  {
   "cell_type": "code",
   "execution_count": 10,
   "metadata": {
    "collapsed": false
   },
   "outputs": [
    {
     "data": {
      "text/plain": [
       "array(['Name of Satellite, Alternate Names', 'Country/Org of UN Registry',\n",
       "       'Country of Operator/Owner', 'Operator/Owner', 'Users', 'Purpose',\n",
       "       'Detailed Purpose', 'Class of Orbit', 'Type of Orbit',\n",
       "       'Longitude of GEO (degrees)', 'Perigee (km)', 'Apogee (km)',\n",
       "       'Eccentricity', 'Inclination (degrees)', 'Period (minutes)',\n",
       "       'Launch Mass (kg.)', 'Dry Mass (kg.)', 'Power (watts)',\n",
       "       'Date of Launch', 'Expected Lifetime', 'Contractor',\n",
       "       'Country of Contractor', 'Launch Site', 'Launch Vehicle',\n",
       "       'COSPAR Number', 'NORAD Number', 'Comments'], dtype=object)"
      ]
     },
     "execution_count": 10,
     "metadata": {},
     "output_type": "execute_result"
    }
   ],
   "source": [
    "data.columns.values"
   ]
  },
  {
   "cell_type": "code",
   "execution_count": 108,
   "metadata": {
    "collapsed": false
   },
   "outputs": [
    {
     "name": "stderr",
     "output_type": "stream",
     "text": [
      "/Users/ianssmith/anaconda3/lib/python3.5/site-packages/ipykernel/__main__.py:9: FutureWarning: convert_objects is deprecated.  Use the data-type specific converters pd.to_datetime, pd.to_timedelta and pd.to_numeric.\n"
     ]
    },
    {
     "ename": "ValueError",
     "evalue": "The truth value of a Series is ambiguous. Use a.empty, a.bool(), a.item(), a.any() or a.all().",
     "output_type": "error",
     "traceback": [
      "\u001b[0;31m---------------------------------------------------------------------------\u001b[0m",
      "\u001b[0;31mValueError\u001b[0m                                Traceback (most recent call last)",
      "\u001b[0;32m<ipython-input-108-fb7230986578>\u001b[0m in \u001b[0;36m<module>\u001b[0;34m()\u001b[0m\n\u001b[1;32m      9\u001b[0m \u001b[0mdata\u001b[0m\u001b[0;34m[\u001b[0m\u001b[0;34m'power'\u001b[0m\u001b[0;34m]\u001b[0m\u001b[0;34m.\u001b[0m\u001b[0mreplace\u001b[0m\u001b[0;34m(\u001b[0m\u001b[0;34m','\u001b[0m\u001b[0;34m,\u001b[0m \u001b[0;34m''\u001b[0m\u001b[0;34m)\u001b[0m\u001b[0;34m.\u001b[0m\u001b[0mconvert_objects\u001b[0m\u001b[0;34m(\u001b[0m\u001b[0mconvert_numeric\u001b[0m\u001b[0;34m=\u001b[0m\u001b[0;32mTrue\u001b[0m\u001b[0;34m,\u001b[0m\u001b[0;34m)\u001b[0m\u001b[0;34m\u001b[0m\u001b[0m\n\u001b[1;32m     10\u001b[0m \u001b[0mdata\u001b[0m\u001b[0;34m[\u001b[0m\u001b[0;34m'power'\u001b[0m\u001b[0;34m]\u001b[0m\u001b[0;34m\u001b[0m\u001b[0m\n\u001b[0;32m---> 11\u001b[0;31m \u001b[0;32mif\u001b[0m \u001b[0mdata\u001b[0m\u001b[0;34m[\u001b[0m\u001b[0;34m'CLO'\u001b[0m\u001b[0;34m]\u001b[0m \u001b[0;34m==\u001b[0m \u001b[0;34m'LEO '\u001b[0m\u001b[0;34m:\u001b[0m\u001b[0;34m\u001b[0m\u001b[0m\n\u001b[0m\u001b[1;32m     12\u001b[0m     \u001b[0mprint\u001b[0m\u001b[0;34m(\u001b[0m\u001b[0mdata\u001b[0m\u001b[0;34m)\u001b[0m\u001b[0;34m\u001b[0m\u001b[0m\n",
      "\u001b[0;32m/Users/ianssmith/anaconda3/lib/python3.5/site-packages/pandas/core/generic.py\u001b[0m in \u001b[0;36m__nonzero__\u001b[0;34m(self)\u001b[0m\n\u001b[1;32m    729\u001b[0m         raise ValueError(\"The truth value of a {0} is ambiguous. \"\n\u001b[1;32m    730\u001b[0m                          \u001b[0;34m\"Use a.empty, a.bool(), a.item(), a.any() or a.all().\"\u001b[0m\u001b[0;34m\u001b[0m\u001b[0m\n\u001b[0;32m--> 731\u001b[0;31m                          .format(self.__class__.__name__))\n\u001b[0m\u001b[1;32m    732\u001b[0m \u001b[0;34m\u001b[0m\u001b[0m\n\u001b[1;32m    733\u001b[0m     \u001b[0m__bool__\u001b[0m \u001b[0;34m=\u001b[0m \u001b[0m__nonzero__\u001b[0m\u001b[0;34m\u001b[0m\u001b[0m\n",
      "\u001b[0;31mValueError\u001b[0m: The truth value of a Series is ambiguous. Use a.empty, a.bool(), a.item(), a.any() or a.all()."
     ]
    }
   ],
   "source": [
    "data.columns=['name', 'country_reg', 'country', 'owner', 'users',\n",
    "              'purpose', 'description', 'CLO', 'TOO', 'longitude',\n",
    "              'perigee', 'apogee', 'eccentricity', 'inclination', \n",
    "              'period', 'launch_mass', 'dry_mass', 'power',\n",
    "              'launch_date', 'expected_lifetime', 'contractor', \n",
    "              'contractor_country', 'launch_site', 'launch_vehicle',\n",
    "              'COSPAR', 'NORAD', 'comments']\n",
    "#int(data['power'].replace(',', ''))\n",
    "#data['power'].replace(',', '').convert_objects(convert_numeric=True,)\n",
    "#data['power']\n"
   ]
  },
  {
   "cell_type": "code",
   "execution_count": 63,
   "metadata": {
    "collapsed": false
   },
   "outputs": [
    {
     "data": {
      "text/plain": [
       "[<matplotlib.lines.Line2D at 0x11dbc8fd0>]"
      ]
     },
     "execution_count": 63,
     "metadata": {},
     "output_type": "execute_result"
    },
    {
     "data": {
      "image/png": "[encoded data removed]",
      "text/plain": [
       "<matplotlib.figure.Figure at 0x11daacda0>"
      ]
     },
     "metadata": {},
     "output_type": "display_data"
    }
   ],
   "source": [
    "plt.plot(data['longitude'])\n",
    "\n"
   ]
  },
  {
   "cell_type": "code",
   "execution_count": 71,
   "metadata": {
    "collapsed": false
   },
   "outputs": [
    {
     "data": {
      "text/plain": [
       "[<matplotlib.lines.Line2D at 0x11dcfc470>]"
      ]
     },
     "execution_count": 71,
     "metadata": {},
     "output_type": "execute_result"
    },
    {
     "data": {
      "image/png": "[encoded data removed]",
      "text/plain": [
       "<matplotlib.figure.Figure at 0x11e5e4d68>"
      ]
     },
     "metadata": {},
     "output_type": "display_data"
    }
   ],
   "source": [
    "plt.plot(data['eccentricity'])\n",
    "\n"
   ]
  },
  {
   "cell_type": "code",
   "execution_count": 103,
   "metadata": {
    "collapsed": false
   },
   "outputs": [
    {
     "data": {
      "text/plain": [
       "[<matplotlib.lines.Line2D at 0x11ec20eb8>]"
      ]
     },
     "execution_count": 103,
     "metadata": {},
     "output_type": "execute_result"
    },
    {
     "data": {
      "image/png": "[encoded data removed]",
      "text/plain": [
       "<matplotlib.figure.Figure at 0x11e74afd0>"
      ]
     },
     "metadata": {},
     "output_type": "display_data"
    }
   ],
   "source": [
    "#plt.plot(data['power'])\n",
    "plt.plot(data['inclination'])\n"
   ]
  },
  {
   "cell_type": "code",
   "execution_count": 69,
   "metadata": {
    "collapsed": false
   },
   "outputs": [
    {
     "data": {
      "text/plain": [
       "<matplotlib.collections.PathCollection at 0x11e60d400>"
      ]
     },
     "execution_count": 69,
     "metadata": {},
     "output_type": "execute_result"
    },
    {
     "data": {
      "image/png": "[encoded data removed]",
      "text/plain": [
       "<matplotlib.figure.Figure at 0x11e4fc2e8>"
      ]
     },
     "metadata": {},
     "output_type": "display_data"
    }
   ],
   "source": [
    "plt.scatter(data['eccentricity'], data['longitude'])\n",
    "\n"
   ]
  },
  {
   "cell_type": "code",
   "execution_count": 67,
   "metadata": {
    "collapsed": false
   },
   "outputs": [
    {
     "data": {
      "text/plain": [
       "<matplotlib.collections.PathCollection at 0x11e474668>"
      ]
     },
     "execution_count": 67,
     "metadata": {},
     "output_type": "execute_result"
    },
    {
     "data": {
      "image/png": "[encoded data removed]",
      "text/plain": [
       "<matplotlib.figure.Figure at 0x11deb8a90>"
      ]
     },
     "metadata": {},
     "output_type": "display_data"
    }
   ],
   "source": [
    "plt.scatter(data['inclination'], data['longitude'])"
   ]
  },
  {
   "cell_type": "code",
   "execution_count": 106,
   "metadata": {
    "collapsed": false
   },
   "outputs": [
    {
     "data": {
      "text/plain": [
       "<matplotlib.collections.PathCollection at 0x11f062668>"
      ]
     },
     "execution_count": 106,
     "metadata": {},
     "output_type": "execute_result"
    },
    {
     "data": {
      "image/png": "[encoded data removed]",
      "text/plain": [
       "<matplotlib.figure.Figure at 0x11ef479b0>"
      ]
     },
     "metadata": {},
     "output_type": "display_data"
    }
   ],
   "source": [
    "plt.scatter(data['inclination'], data['eccentricity'])"
   ]
  },
  {
   "cell_type": "code",
   "execution_count": 13,
   "metadata": {
    "collapsed": false
   },
   "outputs": [],
   "source": [
    "data.to_csv('CSatellites.csv')"
   ]
  },
  {
   "cell_type": "code",
   "execution_count": 102,
   "metadata": {
    "collapsed": false
   },
   "outputs": [
    {
     "data": {
      "text/plain": [
       "array(['LEO', 'GEO', 'MEO', 'Elliptical', 'LEO '], dtype=object)"
      ]
     },
     "execution_count": 102,
     "metadata": {},
     "output_type": "execute_result"
    }
   ],
   "source": [
    "pd.unique(data['CLO'])"
   ]
  },
  {
   "cell_type": "code",
   "execution_count": 101,
   "metadata": {
    "collapsed": false
   },
   "outputs": [
    {
     "data": {
      "text/plain": [
       "LEO           758\n",
       "GEO           493\n",
       "MEO            92\n",
       "Elliptical     37\n",
       "LEO             1\n",
       "Name: CLO, dtype: int64"
      ]
     },
     "execution_count": 101,
     "metadata": {},
     "output_type": "execute_result"
    }
   ],
   "source": [
    "data['CLO'].value_counts()"
   ]
  },
  {
   "cell_type": "code",
   "execution_count": 15,
   "metadata": {
    "collapsed": false
   },
   "outputs": [
    {
     "data": {
      "text/plain": [
       "array(['Non-Polar Inclined', nan, 'Equatorial', 'Polar', 'Sun-Synchronous',\n",
       "       'Elliptical', 'Deep Highly Eccentric', 'Molniya', 'Cislunar'], dtype=object)"
      ]
     },
     "execution_count": 15,
     "metadata": {},
     "output_type": "execute_result"
    }
   ],
   "source": [
    "pd.unique(data['TOO'])"
   ]
  },
  {
   "cell_type": "code",
   "execution_count": 18,
   "metadata": {
    "collapsed": false
   },
   "outputs": [
    {
     "data": {
      "text/plain": [
       "Sun-Synchronous          345\n",
       "Non-Polar Inclined       310\n",
       "Polar                    156\n",
       "Equatorial                28\n",
       "Molniya                   15\n",
       "Elliptical                11\n",
       "Deep Highly Eccentric      9\n",
       "Cislunar                   1\n",
       "Name: TOO, dtype: int64"
      ]
     },
     "execution_count": 18,
     "metadata": {},
     "output_type": "execute_result"
    }
   ],
   "source": [
    "data['TOO'].value_counts()"
   ]
  },
  {
   "cell_type": "code",
   "execution_count": 20,
   "metadata": {
    "collapsed": false
   },
   "outputs": [
    {
     "data": {
      "text/plain": [
       " 0.00      897\n",
       " 55.00       5\n",
       " 28.20       4\n",
       " 83.00       3\n",
       " 50.00       3\n",
       " 95.00       3\n",
       "-114.90      3\n",
       " 25.00       3\n",
       " 118.00      3\n",
       " 140.00      3\n",
       "-61.00       3\n",
       " 91.50       2\n",
       " 90.00       2\n",
       " 47.50       2\n",
       "-67.60       2\n",
       " 48.00       2\n",
       " 98.00       2\n",
       " 26.00       2\n",
       "-61.50       2\n",
       "-58.00       2\n",
       " 180.00      2\n",
       " 60.00       2\n",
       "-116.80      2\n",
       " 70.00       2\n",
       " 25.50       2\n",
       " 85.00       2\n",
       " 74.00       2\n",
       " 75.00       2\n",
       " 105.50      2\n",
       " 164.00      2\n",
       "          ... \n",
       " 103.28      1\n",
       " 105.00      1\n",
       " 155.07      1\n",
       "-124.50      1\n",
       " 87.50       1\n",
       " 162.03      1\n",
       "-171.35      1\n",
       "-96.00       1\n",
       " 19.24       1\n",
       "-27.95       1\n",
       "-0.72        1\n",
       "-29.95       1\n",
       "-14.99       1\n",
       "-55.49       1\n",
       " 13.97       1\n",
       "-177.12      1\n",
       " 142.49      1\n",
       " 143.77      1\n",
       " 74.07       1\n",
       " 28.16       1\n",
       "-85.16       1\n",
       " 77.08       1\n",
       " 31.55       1\n",
       " 145.06      1\n",
       " 150.97      1\n",
       "-89.98       1\n",
       "-91.10       1\n",
       " 83.08       1\n",
       " 82.00       1\n",
       "-102.80      1\n",
       "Name: longitude, dtype: int64"
      ]
     },
     "execution_count": 20,
     "metadata": {},
     "output_type": "execute_result"
    }
   ],
   "source": [
    "pd.unique(data['longitude'])\n",
    "data['longitude'].value_counts()\n"
   ]
  },
  {
   "cell_type": "code",
   "execution_count": 52,
   "metadata": {
    "collapsed": false
   },
   "outputs": [
    {
     "data": {
      "text/plain": [
       "0.00     32\n",
       "1.83      1\n",
       "2.34      1\n",
       "3.20      1\n",
       "4.20      1\n",
       "5.89      1\n",
       "0.50      1\n",
       "7.72      1\n",
       "8.97      1\n",
       "9.39      1\n",
       "10.60     1\n",
       "11.53     1\n",
       "14.98     5\n",
       "15.20     1\n",
       "2.00      1\n",
       "20.00     4\n",
       "25.60     1\n",
       "27.10     1\n",
       "3.00      1\n",
       "29.00     3\n",
       "30.97     1\n",
       "31.00     1\n",
       "35.40     2\n",
       "4.50      1\n",
       "38.00     2\n",
       "40.50     3\n",
       "41.22     1\n",
       "42.80     1\n",
       "45.00    24\n",
       "1.00      1\n",
       "         ..\n",
       "97.81     2\n",
       "55.08     1\n",
       "0.12      8\n",
       "97.44     1\n",
       "54.68     1\n",
       "98.05     2\n",
       "98.17     1\n",
       "4.96      1\n",
       "55.23     1\n",
       "7.03      1\n",
       "0.20      2\n",
       "74.10     1\n",
       "0.08     15\n",
       "97.99    23\n",
       "0.29      1\n",
       "98.55     1\n",
       "98.04     3\n",
       "6.06      1\n",
       "3.23      1\n",
       "97.46    16\n",
       "54.80     2\n",
       "0.04     37\n",
       "0.35      1\n",
       "97.60     5\n",
       "1.64      1\n",
       "55.78     1\n",
       "97.42     3\n",
       "98.18     1\n",
       "82.44     2\n",
       "98.07     1\n",
       "Name: inclination, dtype: int64"
      ]
     },
     "execution_count": 52,
     "metadata": {},
     "output_type": "execute_result"
    }
   ],
   "source": [
    "pd.unique(data['inclination'])\n",
    "data['inclination'].value_counts(sort=False)\n"
   ]
  },
  {
   "cell_type": "code",
   "execution_count": null,
   "metadata": {
    "collapsed": false
   },
   "outputs": [],
   "source": [
    "\n"
   ]
  },
  {
   "cell_type": "code",
   "execution_count": null,
   "metadata": {
    "collapsed": false
   },
   "outputs": [],
   "source": []
  },
  {
   "cell_type": "code",
   "execution_count": null,
   "metadata": {
    "collapsed": true
   },
   "outputs": [],
   "source": []
  }
 ],
 "metadata": {
  "kernelspec": {
   "display_name": "Python 3",
   "language": "python",
   "name": "python3"
  },
  "language_info": {
   "codemirror_mode": {
    "name": "ipython",
    "version": 3
   },
   "file_extension": ".py",
   "mimetype": "text/x-python",
   "name": "python",
   "nbconvert_exporter": "python",
   "pygments_lexer": "ipython3",
   "version": "3.5.1"
  }
 },
 "nbformat": 4,
 "nbformat_minor": 0
}
