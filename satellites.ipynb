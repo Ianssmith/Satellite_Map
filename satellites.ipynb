{
 "cells": [
  {
   "cell_type": "code",
   "execution_count": 842,
   "metadata": {
    "collapsed": false
   },
   "outputs": [],
   "source": [
    "import numpy as np\n",
    "import scipy as sp\n",
    "from pandas import Series, DataFrame\n",
    "import pandas as pd\n",
    "import matplotlib.pyplot as plt\n",
    "%matplotlib inline\n",
    "\n",
    "pd.set_option('display.max_columns', 1000000)\n",
    "pd.set_option('display.max_rows', 1000000)\n",
    "\n"
   ]
  },
  {
   "cell_type": "code",
   "execution_count": 843,
   "metadata": {
    "collapsed": false
   },
   "outputs": [
    {
     "name": "stdout",
     "output_type": "stream",
     "text": [
      "(1381, 254)\n"
     ]
    },
    {
     "data": {
      "text/html": [
       "<div>\n",
       "<table border=\"1\" class=\"dataframe\">\n",
       "  <thead>\n",
       "    <tr style=\"text-align: right;\">\n",
       "      <th></th>\n",
       "      <th>Name of Satellite, Alternate Names</th>\n",
       "      <th>Country/Org of UN Registry</th>\n",
       "      <th>Country of Operator/Owner</th>\n",
       "      <th>Operator/Owner</th>\n",
       "      <th>Users</th>\n",
       "      <th>Purpose</th>\n",
       "      <th>Detailed Purpose</th>\n",
       "      <th>Class of Orbit</th>\n",
       "      <th>Type of Orbit</th>\n",
       "      <th>Longitude of GEO (degrees)</th>\n",
       "      <th>Perigee (km)</th>\n",
       "      <th>Apogee (km)</th>\n",
       "      <th>Eccentricity</th>\n",
       "      <th>Inclination (degrees)</th>\n",
       "      <th>Period (minutes)</th>\n",
       "      <th>Launch Mass (kg.)</th>\n",
       "      <th>Dry Mass (kg.)</th>\n",
       "      <th>Power (watts)</th>\n",
       "      <th>Date of Launch</th>\n",
       "      <th>Expected Lifetime</th>\n",
       "      <th>Contractor</th>\n",
       "      <th>Country of Contractor</th>\n",
       "      <th>Launch Site</th>\n",
       "      <th>Launch Vehicle</th>\n",
       "      <th>COSPAR Number</th>\n",
       "      <th>NORAD Number</th>\n",
       "      <th>Comments</th>\n",
       "    </tr>\n",
       "  </thead>\n",
       "  <tbody>\n",
       "    <tr>\n",
       "      <th>0</th>\n",
       "      <td>AAUSat-5 (Aalborg University Cubesat 5)</td>\n",
       "      <td>NR (12/15)</td>\n",
       "      <td>Denmark</td>\n",
       "      <td>Aalborg University</td>\n",
       "      <td>Civil</td>\n",
       "      <td>Communications</td>\n",
       "      <td>Automatic Identification System (AIS)</td>\n",
       "      <td>LEO</td>\n",
       "      <td>Non-Polar Inclined</td>\n",
       "      <td>0.00</td>\n",
       "      <td>395</td>\n",
       "      <td>409</td>\n",
       "      <td>0.001030</td>\n",
       "      <td>51.64</td>\n",
       "      <td>92.6</td>\n",
       "      <td>1</td>\n",
       "      <td>NaN</td>\n",
       "      <td>NaN</td>\n",
       "      <td>10/2/2015</td>\n",
       "      <td>NaN</td>\n",
       "      <td>Aalborg University</td>\n",
       "      <td>Denmark</td>\n",
       "      <td>International Space Station</td>\n",
       "      <td>Nanorack Deployer</td>\n",
       "      <td>1998-067GZ</td>\n",
       "      <td>40948</td>\n",
       "      <td>Main goal is to test a AIS receiver built by s...</td>\n",
       "    </tr>\n",
       "    <tr>\n",
       "      <th>1</th>\n",
       "      <td>ABS-2 (Koreasat-8, ST-3)</td>\n",
       "      <td>NR</td>\n",
       "      <td>Multinational</td>\n",
       "      <td>Asia Broadcast Satellite Ltd.</td>\n",
       "      <td>Commercial</td>\n",
       "      <td>Communications</td>\n",
       "      <td>NaN</td>\n",
       "      <td>GEO</td>\n",
       "      <td>NaN</td>\n",
       "      <td>75.00</td>\n",
       "      <td>35,778</td>\n",
       "      <td>35,793</td>\n",
       "      <td>0.000178</td>\n",
       "      <td>0.08</td>\n",
       "      <td>1436.03</td>\n",
       "      <td>6,330</td>\n",
       "      <td>NaN</td>\n",
       "      <td>16,000</td>\n",
       "      <td>2/6/2014</td>\n",
       "      <td>15 yrs.</td>\n",
       "      <td>Space Systems/Loral</td>\n",
       "      <td>USA</td>\n",
       "      <td>Guiana Space Center</td>\n",
       "      <td>Ariane  5 ECA</td>\n",
       "      <td>2014-006A</td>\n",
       "      <td>39508</td>\n",
       "      <td>32 C-band, 51 Ku-band, and 6 Ka-band transpond...</td>\n",
       "    </tr>\n",
       "    <tr>\n",
       "      <th>2</th>\n",
       "      <td>ABS-3 (Agila 2, Mabuhay 1)</td>\n",
       "      <td>Philippines</td>\n",
       "      <td>Multinational</td>\n",
       "      <td>Asia Broadcast Satellite Ltd.</td>\n",
       "      <td>Commercial</td>\n",
       "      <td>Communications</td>\n",
       "      <td>NaN</td>\n",
       "      <td>GEO</td>\n",
       "      <td>NaN</td>\n",
       "      <td>146.06</td>\n",
       "      <td>35,769</td>\n",
       "      <td>35,802</td>\n",
       "      <td>0.000391</td>\n",
       "      <td>0.05</td>\n",
       "      <td>1436.07</td>\n",
       "      <td>3,775</td>\n",
       "      <td>1,800</td>\n",
       "      <td>9,000</td>\n",
       "      <td>8/19/1997</td>\n",
       "      <td>15 yrs.</td>\n",
       "      <td>Space Systems/Loral</td>\n",
       "      <td>USA</td>\n",
       "      <td>Xichang Satellite Launch Center</td>\n",
       "      <td>Long March CZ3B</td>\n",
       "      <td>1997-042A</td>\n",
       "      <td>24901</td>\n",
       "      <td>Most powerful telecommunications satellite in ...</td>\n",
       "    </tr>\n",
       "    <tr>\n",
       "      <th>3</th>\n",
       "      <td>ABS-3A</td>\n",
       "      <td>NR</td>\n",
       "      <td>Multinational</td>\n",
       "      <td>Asia Broadcast Satellite Ltd.</td>\n",
       "      <td>Commercial</td>\n",
       "      <td>Communications</td>\n",
       "      <td>NaN</td>\n",
       "      <td>GEO</td>\n",
       "      <td>NaN</td>\n",
       "      <td>-3.00</td>\n",
       "      <td>35,788</td>\n",
       "      <td>35,803</td>\n",
       "      <td>0.000178</td>\n",
       "      <td>0.10</td>\n",
       "      <td>1436</td>\n",
       "      <td>2,000</td>\n",
       "      <td>NaN</td>\n",
       "      <td>NaN</td>\n",
       "      <td>3/2/2015</td>\n",
       "      <td>15 yrs.</td>\n",
       "      <td>Boeing Satellite Systems</td>\n",
       "      <td>NaN</td>\n",
       "      <td>Cape Canaveral</td>\n",
       "      <td>Falcon 9</td>\n",
       "      <td>2015-010A</td>\n",
       "      <td>40424</td>\n",
       "      <td>Coverage of Americas Europe and Africa.</td>\n",
       "    </tr>\n",
       "    <tr>\n",
       "      <th>4</th>\n",
       "      <td>ABS-4 (ABS-2i, MBSat, Mobile Broadcasting Sate...</td>\n",
       "      <td>NR</td>\n",
       "      <td>Multinational</td>\n",
       "      <td>Asia Broadcast Satellite Ltd.</td>\n",
       "      <td>Commercial</td>\n",
       "      <td>Communications</td>\n",
       "      <td>NaN</td>\n",
       "      <td>GEO</td>\n",
       "      <td>NaN</td>\n",
       "      <td>75.00</td>\n",
       "      <td>35,780</td>\n",
       "      <td>35,793</td>\n",
       "      <td>0.000154</td>\n",
       "      <td>0.01</td>\n",
       "      <td>1436.1</td>\n",
       "      <td>4,143</td>\n",
       "      <td>1,700</td>\n",
       "      <td>7,400</td>\n",
       "      <td>3/13/2004</td>\n",
       "      <td>12 yrs.</td>\n",
       "      <td>Space Systems/Loral</td>\n",
       "      <td>USA</td>\n",
       "      <td>Cape Canaveral</td>\n",
       "      <td>Atlas 3</td>\n",
       "      <td>2004-007A</td>\n",
       "      <td>28184</td>\n",
       "      <td>Purchased by ABS in 2013.</td>\n",
       "    </tr>\n",
       "  </tbody>\n",
       "</table>\n",
       "</div>"
      ],
      "text/plain": [
       "                  Name of Satellite, Alternate Names  \\\n",
       "0            AAUSat-5 (Aalborg University Cubesat 5)   \n",
       "1                           ABS-2 (Koreasat-8, ST-3)   \n",
       "2                         ABS-3 (Agila 2, Mabuhay 1)   \n",
       "3                                            ABS-3A    \n",
       "4  ABS-4 (ABS-2i, MBSat, Mobile Broadcasting Sate...   \n",
       "\n",
       "  Country/Org of UN Registry Country of Operator/Owner  \\\n",
       "0                 NR (12/15)                   Denmark   \n",
       "1                         NR             Multinational   \n",
       "2                Philippines             Multinational   \n",
       "3                         NR             Multinational   \n",
       "4                         NR             Multinational   \n",
       "\n",
       "                  Operator/Owner       Users         Purpose  \\\n",
       "0             Aalborg University       Civil  Communications   \n",
       "1  Asia Broadcast Satellite Ltd.  Commercial  Communications   \n",
       "2  Asia Broadcast Satellite Ltd.  Commercial  Communications   \n",
       "3  Asia Broadcast Satellite Ltd.  Commercial  Communications   \n",
       "4  Asia Broadcast Satellite Ltd.  Commercial  Communications   \n",
       "\n",
       "                        Detailed Purpose Class of Orbit       Type of Orbit  \\\n",
       "0  Automatic Identification System (AIS)            LEO  Non-Polar Inclined   \n",
       "1                                    NaN            GEO                 NaN   \n",
       "2                                    NaN            GEO                 NaN   \n",
       "3                                    NaN            GEO                 NaN   \n",
       "4                                    NaN            GEO                 NaN   \n",
       "\n",
       "   Longitude of GEO (degrees) Perigee (km) Apogee (km)  Eccentricity  \\\n",
       "0                        0.00          395         409      0.001030   \n",
       "1                       75.00       35,778      35,793      0.000178   \n",
       "2                      146.06       35,769      35,802      0.000391   \n",
       "3                       -3.00       35,788      35,803      0.000178   \n",
       "4                       75.00       35,780      35,793      0.000154   \n",
       "\n",
       "   Inclination (degrees) Period (minutes) Launch Mass (kg.) Dry Mass (kg.)  \\\n",
       "0                  51.64             92.6                 1            NaN   \n",
       "1                   0.08          1436.03             6,330            NaN   \n",
       "2                   0.05          1436.07             3,775          1,800   \n",
       "3                   0.10             1436             2,000            NaN   \n",
       "4                   0.01           1436.1             4,143          1,700   \n",
       "\n",
       "  Power (watts) Date of Launch Expected Lifetime                Contractor  \\\n",
       "0           NaN      10/2/2015               NaN        Aalborg University   \n",
       "1        16,000       2/6/2014           15 yrs.       Space Systems/Loral   \n",
       "2         9,000      8/19/1997           15 yrs.       Space Systems/Loral   \n",
       "3           NaN       3/2/2015           15 yrs.  Boeing Satellite Systems   \n",
       "4         7,400      3/13/2004           12 yrs.       Space Systems/Loral   \n",
       "\n",
       "  Country of Contractor                      Launch Site     Launch Vehicle  \\\n",
       "0               Denmark      International Space Station  Nanorack Deployer   \n",
       "1                   USA              Guiana Space Center      Ariane  5 ECA   \n",
       "2                   USA  Xichang Satellite Launch Center    Long March CZ3B   \n",
       "3                   NaN                   Cape Canaveral           Falcon 9   \n",
       "4                   USA                   Cape Canaveral            Atlas 3   \n",
       "\n",
       "  COSPAR Number  NORAD Number  \\\n",
       "0    1998-067GZ         40948   \n",
       "1     2014-006A         39508   \n",
       "2     1997-042A         24901   \n",
       "3     2015-010A         40424   \n",
       "4     2004-007A         28184   \n",
       "\n",
       "                                            Comments  \n",
       "0  Main goal is to test a AIS receiver built by s...  \n",
       "1  32 C-band, 51 Ku-band, and 6 Ka-band transpond...  \n",
       "2  Most powerful telecommunications satellite in ...  \n",
       "3            Coverage of Americas Europe and Africa.  \n",
       "4                          Purchased by ABS in 2013.  "
      ]
     },
     "execution_count": 843,
     "metadata": {},
     "output_type": "execute_result"
    }
   ],
   "source": [
    "#Importing data and removing empty columns\n",
    "data = pd.read_table('Fsatellites.tsv', encoding = \"ISO-8859-1\")\n",
    "print(data.shape)\n",
    "\n",
    "for col in data.columns:\n",
    "    if 'Unnamed' in col:\n",
    "        del data[col]\n",
    "        \n",
    "for col in data.columns:\n",
    "    if 'Source' in col:\n",
    "        del data[col]\n",
    "data.head()"
   ]
  },
  {
   "cell_type": "code",
   "execution_count": 844,
   "metadata": {
    "collapsed": false
   },
   "outputs": [
    {
     "data": {
      "text/plain": [
       "array(['Name of Satellite, Alternate Names', 'Country/Org of UN Registry',\n",
       "       'Country of Operator/Owner', 'Operator/Owner', 'Users', 'Purpose',\n",
       "       'Detailed Purpose', 'Class of Orbit', 'Type of Orbit',\n",
       "       'Longitude of GEO (degrees)', 'Perigee (km)', 'Apogee (km)',\n",
       "       'Eccentricity', 'Inclination (degrees)', 'Period (minutes)',\n",
       "       'Launch Mass (kg.)', 'Dry Mass (kg.)', 'Power (watts)',\n",
       "       'Date of Launch', 'Expected Lifetime', 'Contractor',\n",
       "       'Country of Contractor', 'Launch Site', 'Launch Vehicle',\n",
       "       'COSPAR Number', 'NORAD Number', 'Comments'], dtype=object)"
      ]
     },
     "execution_count": 844,
     "metadata": {},
     "output_type": "execute_result"
    }
   ],
   "source": [
    "#Renaming columns\n",
    "data.columns.values"
   ]
  },
  {
   "cell_type": "code",
   "execution_count": 845,
   "metadata": {
    "collapsed": false
   },
   "outputs": [],
   "source": [
    "data.columns=['name', 'country_reg', 'country', 'owner', 'users',\n",
    "              'purpose', 'description', 'CLO', 'TOO', 'longitude',\n",
    "              'perigee_km', 'apogee_km', 'eccentricity', 'inclination', \n",
    "              'period_minutes', 'launch_mass', 'dry_mass', 'power_watts',\n",
    "              'launch_date', 'expected_lifetime_years', 'contractor', \n",
    "              'contractor_country', 'launch_site', 'launch_vehicle',\n",
    "              'COSPAR', 'NORAD', 'comments']\n"
   ]
  },
  {
   "cell_type": "code",
   "execution_count": 846,
   "metadata": {
    "collapsed": true
   },
   "outputs": [],
   "source": [
    "data['CLO'] = data['CLO'].replace('LEO ', 'LEO')"
   ]
  },
  {
   "cell_type": "code",
   "execution_count": 847,
   "metadata": {
    "collapsed": false
   },
   "outputs": [
    {
     "data": {
      "text/plain": [
       "array([nan, '15 ', '12 ', '14 ', '2 ', '3 ', '1 ', '5 ', '10 ', '14', '8 ',\n",
       "       '7 ', '1.5 ', '13 ', '6 ', '.5 ', '9 ', '18 ', '16 ', '.25 ', '11 ',\n",
       "       '15  ', '17 ', '30 ', '14.5 ', '7.25 ', ' 3 ', '4 ', '11.5 ',\n",
       "       '7.5 ', '2.5 ', '12.6 '], dtype=object)"
      ]
     },
     "execution_count": 847,
     "metadata": {},
     "output_type": "execute_result"
    }
   ],
   "source": [
    "#Standardizing expected_lifetime values\n",
    "data_NoC = data.replace(to_replace=',', value='', regex=True)\n",
    "data_NoC['expected_lifetime_years'] = data_NoC['expected_lifetime_years'].replace(to_replace=\"(yrs\\.|yr\\.|hrs\\.|trs)\", value='', regex=True)\n",
    "data_NoC['expected_lifetime_years'] = data_NoC['expected_lifetime_years'].replace(to_replace=\"\\.?[0-9]*-\", value='', regex=True)\n",
    "data_NoC['expected_lifetime_years'] = data_NoC['expected_lifetime_years'].replace(to_replace=\"\\+\", value='', regex=True)\n",
    "pd.unique(data_NoC['expected_lifetime_years'])"
   ]
  },
  {
   "cell_type": "code",
   "execution_count": 848,
   "metadata": {
    "collapsed": false
   },
   "outputs": [
    {
     "data": {
      "text/plain": [
       "428"
      ]
     },
     "execution_count": 848,
     "metadata": {},
     "output_type": "execute_result"
    }
   ],
   "source": [
    "data['expected_lifetime_years'].isnull().sum()"
   ]
  },
  {
   "cell_type": "code",
   "execution_count": 849,
   "metadata": {
    "collapsed": false
   },
   "outputs": [
    {
     "data": {
      "text/plain": [
       "428"
      ]
     },
     "execution_count": 849,
     "metadata": {},
     "output_type": "execute_result"
    }
   ],
   "source": [
    "data_NoC['expected_lifetime_years'].isnull().sum()"
   ]
  },
  {
   "cell_type": "code",
   "execution_count": 850,
   "metadata": {
    "collapsed": false
   },
   "outputs": [
    {
     "name": "stderr",
     "output_type": "stream",
     "text": [
      "/Users/ianssmith/anaconda3/lib/python3.5/site-packages/ipykernel/__main__.py:2: FutureWarning: convert_objects is deprecated.  Use the data-type specific converters pd.to_datetime, pd.to_timedelta and pd.to_numeric.\n",
      "  from ipykernel import kernelapp as app\n"
     ]
    }
   ],
   "source": [
    "#Convert data\n",
    "data_converted = data_NoC.convert_objects(convert_dates=True, convert_numeric=True,)\n",
    "data = data_converted\n"
   ]
  },
  {
   "cell_type": "code",
   "execution_count": 851,
   "metadata": {
    "collapsed": false
   },
   "outputs": [
    {
     "data": {
      "text/plain": [
       "428"
      ]
     },
     "execution_count": 851,
     "metadata": {},
     "output_type": "execute_result"
    }
   ],
   "source": [
    "data['launch_date'] = pd.to_datetime(data['launch_date'])\n",
    "data['expected_lifetime_years'].isnull().sum()"
   ]
  },
  {
   "cell_type": "code",
   "execution_count": 852,
   "metadata": {
    "collapsed": false
   },
   "outputs": [
    {
     "data": {
      "text/plain": [
       "array([   nan,  15.  ,  12.  ,  14.  ,   2.  ,   3.  ,   1.  ,   5.  ,\n",
       "        10.  ,   8.  ,   7.  ,   1.5 ,  13.  ,   6.  ,   0.5 ,   9.  ,\n",
       "        18.  ,  16.  ,   0.25,  11.  ,  17.  ,  30.  ,  14.5 ,   7.25,\n",
       "         4.  ,  11.5 ,   7.5 ,   2.5 ,  12.6 ])"
      ]
     },
     "execution_count": 852,
     "metadata": {},
     "output_type": "execute_result"
    }
   ],
   "source": [
    "pd.unique(data.expected_lifetime_years)"
   ]
  },
  {
   "cell_type": "code",
   "execution_count": 853,
   "metadata": {
    "collapsed": false
   },
   "outputs": [
    {
     "data": {
      "text/plain": [
       "{dtype('int64'): ['perigee_km', 'apogee_km', 'NORAD'],\n",
       " dtype('float64'): ['longitude',\n",
       "  'eccentricity',\n",
       "  'inclination',\n",
       "  'period_minutes',\n",
       "  'launch_mass',\n",
       "  'dry_mass',\n",
       "  'power_watts',\n",
       "  'expected_lifetime_years'],\n",
       " dtype('<M8[ns]'): ['launch_date'],\n",
       " dtype('O'): ['name',\n",
       "  'country_reg',\n",
       "  'country',\n",
       "  'owner',\n",
       "  'users',\n",
       "  'purpose',\n",
       "  'description',\n",
       "  'CLO',\n",
       "  'TOO',\n",
       "  'contractor',\n",
       "  'contractor_country',\n",
       "  'launch_site',\n",
       "  'launch_vehicle',\n",
       "  'COSPAR',\n",
       "  'comments']}"
      ]
     },
     "execution_count": 853,
     "metadata": {},
     "output_type": "execute_result"
    }
   ],
   "source": [
    "#Check for correct dtype\n",
    "datatypes = data.columns.to_series().groupby(data.dtypes).groups\n",
    "datatypes"
   ]
  },
  {
   "cell_type": "code",
   "execution_count": 854,
   "metadata": {
    "collapsed": false
   },
   "outputs": [
    {
     "data": {
      "text/plain": [
       "Index(['name', 'country_reg', 'country', 'owner', 'users', 'purpose',\n",
       "       'description', 'CLO', 'TOO', 'longitude', 'perigee_km', 'apogee_km',\n",
       "       'eccentricity', 'inclination', 'period_minutes', 'launch_mass',\n",
       "       'dry_mass', 'power_watts', 'launch_date', 'expected_lifetime_years',\n",
       "       'contractor', 'contractor_country', 'launch_site', 'launch_vehicle',\n",
       "       'COSPAR', 'NORAD', 'comments', 'launch_year', 'launch_month',\n",
       "       'launch_day'],\n",
       "      dtype='object')"
      ]
     },
     "execution_count": 854,
     "metadata": {},
     "output_type": "execute_result"
    }
   ],
   "source": [
    "#Create columns to isolate launch year/month/day\n",
    "data['launch_year'], data['launch_month'], data['launch_day'] = data['launch_date'].dt.year, data['launch_date'].dt.month, data['launch_date'].dt.day\n",
    "data.columns\n",
    "\n"
   ]
  },
  {
   "cell_type": "code",
   "execution_count": 855,
   "metadata": {
    "collapsed": false
   },
   "outputs": [],
   "source": [
    "#Remove nickaname from name column to its own column\n",
    "data['nickname'] = data['name'].str.extract('(\\(.*\\))')\n",
    "data['name'] = data['name'].replace(to_replace=\"\\(.*\\)\", value='', regex=True)\n"
   ]
  },
  {
   "cell_type": "code",
   "execution_count": 856,
   "metadata": {
    "collapsed": false
   },
   "outputs": [
    {
     "name": "stderr",
     "output_type": "stream",
     "text": [
      "/Users/ianssmith/anaconda3/lib/python3.5/site-packages/ipykernel/__main__.py:2: SettingWithCopyWarning: \n",
      "A value is trying to be set on a copy of a slice from a DataFrame\n",
      "\n",
      "See the caveats in the documentation: http://pandas.pydata.org/pandas-docs/stable/indexing.html#indexing-view-versus-copy\n",
      "  from ipykernel import kernelapp as app\n",
      "/Users/ianssmith/anaconda3/lib/python3.5/site-packages/ipykernel/__main__.py:3: SettingWithCopyWarning: \n",
      "A value is trying to be set on a copy of a slice from a DataFrame\n",
      "\n",
      "See the caveats in the documentation: http://pandas.pydata.org/pandas-docs/stable/indexing.html#indexing-view-versus-copy\n",
      "  app.launch_new_instance()\n"
     ]
    }
   ],
   "source": [
    "#Fix and standardize longitudinal degrees to 360 for GEO orbits\n",
    "data['longitude'][data['longitude'] > 180] = data['longitude'] - 360\n",
    "data['longitude'][data['longitude'] < 0 ] = data['longitude'] + 360"
   ]
  },
  {
   "cell_type": "code",
   "execution_count": 857,
   "metadata": {
    "collapsed": false
   },
   "outputs": [
    {
     "name": "stderr",
     "output_type": "stream",
     "text": [
      "/Users/ianssmith/anaconda3/lib/python3.5/site-packages/ipykernel/__main__.py:1: SettingWithCopyWarning: \n",
      "A value is trying to be set on a copy of a slice from a DataFrame\n",
      "\n",
      "See the caveats in the documentation: http://pandas.pydata.org/pandas-docs/stable/indexing.html#indexing-view-versus-copy\n",
      "  if __name__ == '__main__':\n"
     ]
    }
   ],
   "source": [
    "#Adding arbitrary longitudes to non-GEO orbits for successional calculations\n",
    "##GEOsynchronous orbits appear stationary at certian longitudes from earths surface\n",
    "data['longitude'][data['longitude'] == 0 ] = data['longitude'].apply(lambda v: np.random.randint(360))"
   ]
  },
  {
   "cell_type": "code",
   "execution_count": 858,
   "metadata": {
    "collapsed": false
   },
   "outputs": [],
   "source": [
    "#Calculate radians for GEO orbit longitudes\n",
    "data['radians'] = np.deg2rad(data['longitude'])"
   ]
  },
  {
   "cell_type": "code",
   "execution_count": 859,
   "metadata": {
    "collapsed": true
   },
   "outputs": [],
   "source": [
    "##Create constant variables\n",
    "#(mean)radius of earth km\n",
    "earthRad = 6371\n",
    "#Mass of earth times gravitational constant\n",
    "GM = 398600.4\n"
   ]
  },
  {
   "cell_type": "code",
   "execution_count": 860,
   "metadata": {
    "collapsed": false
   },
   "outputs": [],
   "source": [
    "#Include earth's radius in apogee and perigee values for elliptical calculations\n",
    "data['apogeeR'] = data['apogee_km'] + 6371\n",
    "data['perigeeR'] = data['perigee_km'] + 6371"
   ]
  },
  {
   "cell_type": "code",
   "execution_count": 861,
   "metadata": {
    "collapsed": false
   },
   "outputs": [],
   "source": [
    "#Calculate the major/semimajor axis of orbits\n",
    "data['majorA'] = data.apogeeR + data.perigeeR\n",
    "data['semimajorA'] = data['majorA']/2\n"
   ]
  },
  {
   "cell_type": "code",
   "execution_count": 862,
   "metadata": {
    "collapsed": true
   },
   "outputs": [],
   "source": [
    "#The distance between earth and the empty focus of the ellipse\n",
    "data['fDistance'] = data['majorA'] - data['perigeeR']*2"
   ]
  },
  {
   "cell_type": "code",
   "execution_count": 863,
   "metadata": {
    "collapsed": false
   },
   "outputs": [],
   "source": [
    "#Calculate the minor/semiminor axis of orbits\n",
    "data['minorA'] = np.sqrt((data['majorA'])**2 - (data['fDistance'])**2)\n",
    "data['semiminorA'] = data['minorA']/2"
   ]
  },
  {
   "cell_type": "code",
   "execution_count": 864,
   "metadata": {
    "collapsed": false
   },
   "outputs": [],
   "source": [
    "#Mean motion of orbits\n",
    "data['meanmotion'] = np.sqrt(GM/(data['semimajorA']**3))"
   ]
  },
  {
   "cell_type": "code",
   "execution_count": 865,
   "metadata": {
    "collapsed": false
   },
   "outputs": [
    {
     "name": "stdout",
     "output_type": "stream",
     "text": [
      "Radian approach\n",
      "\n",
      "0     5547.312305\n",
      "1    86140.586331\n",
      "2    86140.586331\n",
      "3    86171.238435\n",
      "4    86143.651378\n",
      "Name: period_seconds, dtype: float64\n",
      "\n",
      "Converting from data\n",
      "\n",
      "0     5556.0\n",
      "1    86161.8\n",
      "2    86164.2\n",
      "3    86160.0\n",
      "4    86166.0\n",
      "Name: simple_seconds, dtype: float64\n",
      "\n",
      " Radian conversion gives more accurate figures\n"
     ]
    }
   ],
   "source": [
    "#Finding the period in seconds\n",
    "data['period_seconds'] = (2*np.pi)*(np.sqrt((data['semimajorA']**3)/(GM))) #gives more precise values\n",
    "data['simple_seconds'] = data['period_minutes']*60\n",
    "print(\"Radian approach\\n\")\n",
    "print(data.period_seconds.head())\n",
    "print(\"\\nConverting from data\\n\")\n",
    "print(data.simple_seconds.head())\n",
    "print(\"\\n Radian conversion gives more accurate figures\")"
   ]
  },
  {
   "cell_type": "code",
   "execution_count": 866,
   "metadata": {
    "collapsed": false
   },
   "outputs": [
    {
     "name": "stdout",
     "output_type": "stream",
     "text": [
      "Calculating directly via radians\n",
      "\n",
      "0     3929.346216\n",
      "1    17945.955486\n",
      "2    34949.150110\n",
      "3    85453.144782\n",
      "4    17946.594037\n",
      "Name: T_long, dtype: float64\n",
      "\n",
      "\n",
      "Calculating per degree longitude\n",
      "\n",
      "\n",
      "Seconds/degree traveled\n",
      "0     15.409201\n",
      "1    239.279406\n",
      "2    239.279406\n",
      "3    239.364551\n",
      "4    239.287920\n",
      "Name: sec_per_longdegree, dtype: float64\n",
      "\n",
      "Times longitudinal location\n",
      "0     3929.346216\n",
      "1    17945.955486\n",
      "2    34949.150110\n",
      "3    85453.144782\n",
      "4    17946.594037\n",
      "Name: time_till_longitude, dtype: float64\n",
      "\n",
      "No difference in accuracy\n"
     ]
    }
   ],
   "source": [
    "#Calculating theoretical time  until longitudinal location for GEO orbits\n",
    "print('Calculating directly via radians\\n')\n",
    "data['T_long'] = data['radians']*np.sqrt((data['semimajorA']**3)/GM)\n",
    "print(data.T_long.head())\n",
    "\n",
    "print(\"\\n\\nCalculating per degree longitude\\n\")\n",
    "data['sec_per_longdegree'] = data['period_seconds']/360\n",
    "print(\"\\nSeconds/degree traveled\")\n",
    "print(data.sec_per_longdegree.head())\n",
    "print(\"\\nTimes longitudinal location\")\n",
    "data['time_till_longitude'] = data['longitude']*data['sec_per_longdegree']\n",
    "print(data.time_till_longitude.head())\n",
    "\n",
    "print(\"\\nNo difference in accuracy\")"
   ]
  },
  {
   "cell_type": "code",
   "execution_count": 905,
   "metadata": {
    "collapsed": true
   },
   "outputs": [],
   "source": [
    "#Calculate mean anomaly at position X\n",
    "data['meanAnom'] = data['meanmotion'] * data['time_till_longitude']"
   ]
  },
  {
   "cell_type": "code",
   "execution_count": 906,
   "metadata": {
    "collapsed": true
   },
   "outputs": [],
   "source": [
    "#Distance of earth from center of ellipse \n",
    "data['Efromcenter'] = data['semimajorA'] - data['perigeeR']"
   ]
  },
  {
   "cell_type": "code",
   "execution_count": 907,
   "metadata": {
    "collapsed": false
   },
   "outputs": [],
   "source": [
    "#Test function \n",
    "#def eccen(meanAnom, eccentricity):\n",
    "#     ea = meanAnom - ((meanAnom-(eccentricity*np.sin(meanAnom))-meanAnom)/(1-eccentricity*np.cos(meanAnom)))\n",
    "#     difference = ea - meanAnom\n",
    "#     if (difference < 0.0000001):\n",
    "#         return ea\n",
    "#     else:\n",
    "#         eccen(ea, eccentricity)"
   ]
  },
  {
   "cell_type": "code",
   "execution_count": 908,
   "metadata": {
    "collapsed": false
   },
   "outputs": [],
   "source": [
    "# eccen(5.87286, 0.0501)# 0.8501)"
   ]
  },
  {
   "cell_type": "code",
   "execution_count": 909,
   "metadata": {
    "collapsed": false
   },
   "outputs": [],
   "source": [
    "#Calculate eccentric Anomaly at position X\n",
    "def eccentricAnom(meanAnom, eccentricity):\n",
    "    difference = pd.DataFrame()\n",
    "    eccentricAnom = meanAnom - ((meanAnom-(eccentricity*np.sin(meanAnom))-meanAnom)/(1-eccentricity*np.cos(meanAnom)))\n",
    "    difference = eccentricAnom - meanAnom\n",
    "    for item, frame in difference.iteritems():\n",
    "        if (frame < 0.000000):\n",
    "            return eccentricAnom\n",
    "        else:\n",
    "            eccenTest(eccentricAnom, eccentricity)\n",
    "            \n",
    "#data.meanAnom.apply(eccentest, axis=1)"
   ]
  },
  {
   "cell_type": "code",
   "execution_count": 910,
   "metadata": {
    "collapsed": false
   },
   "outputs": [],
   "source": [
    "data['eccentricAnom'] = eccentricAnom(data['meanAnom'], data['eccentricity'])"
   ]
  },
  {
   "cell_type": "code",
   "execution_count": 912,
   "metadata": {
    "collapsed": false
   },
   "outputs": [
    {
     "data": {
      "text/plain": [
       "name                                                              Mercury 2 \n",
       "country_reg                                                              USA\n",
       "country                                                                  USA\n",
       "owner                              National Reconnaissance Office (NRO)/USAF\n",
       "users                                                               Military\n",
       "purpose                                                    Earth Observation\n",
       "description                                          Electronic Intelligence\n",
       "CLO                                                                      GEO\n",
       "TOO                                                                      NaN\n",
       "longitude                                                             336.49\n",
       "perigee_km                                                             33674\n",
       "apogee_km                                                              37900\n",
       "eccentricity                                                          0.0501\n",
       "inclination                                                             7.33\n",
       "period_minutes                                                       1436.12\n",
       "launch_mass                                                             8000\n",
       "dry_mass                                                                4000\n",
       "power_watts                                                              NaN\n",
       "launch_date                                              1996-04-24 00:00:00\n",
       "expected_lifetime_years                                                  NaN\n",
       "contractor                                          Boeing Satellite Systems\n",
       "contractor_country                                                       USA\n",
       "launch_site                                                   Cape Canaveral\n",
       "launch_vehicle                                                     Titan IVA\n",
       "COSPAR                                                             1996-026A\n",
       "NORAD                                                                  23855\n",
       "comments                   In the $1 billion range; ELINT; signals intell...\n",
       "launch_year                                                             1996\n",
       "launch_month                                                               4\n",
       "launch_day                                                                24\n",
       "nickname                                         (Advanced Vortex 2 USA 118)\n",
       "radians                                                              5.87286\n",
       "apogeeR                                                                44271\n",
       "perigeeR                                                               40045\n",
       "majorA                                                                 84316\n",
       "semimajorA                                                             42158\n",
       "fDistance                                                               4226\n",
       "minorA                                                                 84210\n",
       "semiminorA                                                             42105\n",
       "meanmotion                                                       7.29372e-05\n",
       "period_seconds                                                       86145.2\n",
       "simple_seconds                                                       86167.2\n",
       "T_long                                                               80519.4\n",
       "sec_per_longdegree                                                   239.292\n",
       "time_till_longitude                                                  80519.4\n",
       "meanAnom                                                             5.87286\n",
       "Efromcenter                                                             2113\n",
       "eccentricAnom                                                        5.85191\n",
       "trueAnom                                                            0.452719\n",
       "trueAnomadj                                                         0.905437\n",
       "trueAnomadj2                                                         6.30463\n",
       "flightpath                                                         0.0209665\n",
       "distanceAt                                                           33868.3\n",
       "cartX                                                                26025.9\n",
       "cartY                                                                33123.8\n",
       "Name: 780, dtype: object"
      ]
     },
     "execution_count": 912,
     "metadata": {},
     "output_type": "execute_result"
    }
   ],
   "source": [
    "#checking \n",
    "data.loc[780]"
   ]
  },
  {
   "cell_type": "code",
   "execution_count": 913,
   "metadata": {
    "collapsed": false
   },
   "outputs": [],
   "source": [
    "#Calculate true Anomaly  at position X\n",
    "data['trueAnom'] = np.arccos((np.cos(data['eccentricAnom'])-data['eccentricity'])/(1 - data['eccentricity']*np.cos(data['eccentricAnom'])))"
   ]
  },
  {
   "cell_type": "code",
   "execution_count": 914,
   "metadata": {
    "collapsed": true
   },
   "outputs": [],
   "source": [
    "#Adjusting for 360 degrees\n",
    "data['trueAnomadj'] = data['trueAnom']*2"
   ]
  },
  {
   "cell_type": "code",
   "execution_count": 915,
   "metadata": {
    "collapsed": true
   },
   "outputs": [],
   "source": [
    "#Calculating flight path  at position X\n",
    "data['flightpath'] = np.arctan(data['eccentricity']*np.sin(data['trueAnom'])/(1 + data['eccentricity']*np.cos(data['trueAnom'])))"
   ]
  },
  {
   "cell_type": "code",
   "execution_count": 916,
   "metadata": {
    "collapsed": true
   },
   "outputs": [],
   "source": [
    "#Calculating altitude at position X\n",
    "data['distanceAt'] = (data['semimajorA'] * (1-data['eccentricity']*np.cos(data['eccentricAnom'])))-6371"
   ]
  },
  {
   "cell_type": "code",
   "execution_count": 917,
   "metadata": {
    "collapsed": false
   },
   "outputs": [],
   "source": [
    "#Converting to cartesian coordiantes\n",
    "data['cartX'] = data['semimajorA']*np.cos(data['trueAnomadj']) #- data['Efromcenter']\n",
    "data['cartY'] = data['semiminorA']*np.sin(data['trueAnomadj'])"
   ]
  },
  {
   "cell_type": "code",
   "execution_count": 926,
   "metadata": {
    "collapsed": false
   },
   "outputs": [
    {
     "data": {
      "text/html": [
       "<div>\n",
       "<table border=\"1\" class=\"dataframe\">\n",
       "  <thead>\n",
       "    <tr style=\"text-align: right;\">\n",
       "      <th></th>\n",
       "      <th>name</th>\n",
       "      <th>country_reg</th>\n",
       "      <th>country</th>\n",
       "      <th>owner</th>\n",
       "      <th>users</th>\n",
       "      <th>purpose</th>\n",
       "      <th>description</th>\n",
       "      <th>CLO</th>\n",
       "      <th>TOO</th>\n",
       "      <th>longitude</th>\n",
       "      <th>perigee_km</th>\n",
       "      <th>apogee_km</th>\n",
       "      <th>eccentricity</th>\n",
       "      <th>inclination</th>\n",
       "      <th>period_minutes</th>\n",
       "      <th>launch_mass</th>\n",
       "      <th>dry_mass</th>\n",
       "      <th>power_watts</th>\n",
       "      <th>launch_date</th>\n",
       "      <th>expected_lifetime_years</th>\n",
       "      <th>contractor</th>\n",
       "      <th>contractor_country</th>\n",
       "      <th>launch_site</th>\n",
       "      <th>launch_vehicle</th>\n",
       "      <th>COSPAR</th>\n",
       "      <th>NORAD</th>\n",
       "      <th>comments</th>\n",
       "      <th>launch_year</th>\n",
       "      <th>launch_month</th>\n",
       "      <th>launch_day</th>\n",
       "      <th>nickname</th>\n",
       "      <th>radians</th>\n",
       "      <th>apogeeR</th>\n",
       "      <th>perigeeR</th>\n",
       "      <th>majorA</th>\n",
       "      <th>semimajorA</th>\n",
       "      <th>fDistance</th>\n",
       "      <th>minorA</th>\n",
       "      <th>semiminorA</th>\n",
       "      <th>meanmotion</th>\n",
       "      <th>period_seconds</th>\n",
       "      <th>simple_seconds</th>\n",
       "      <th>T_long</th>\n",
       "      <th>sec_per_longdegree</th>\n",
       "      <th>time_till_longitude</th>\n",
       "      <th>meanAnom</th>\n",
       "      <th>Efromcenter</th>\n",
       "      <th>eccentricAnom</th>\n",
       "      <th>trueAnom</th>\n",
       "      <th>trueAnomadj</th>\n",
       "      <th>trueAnomadj2</th>\n",
       "      <th>flightpath</th>\n",
       "      <th>distanceAt</th>\n",
       "      <th>cartX</th>\n",
       "      <th>cartY</th>\n",
       "    </tr>\n",
       "  </thead>\n",
       "  <tbody>\n",
       "    <tr>\n",
       "      <th>0</th>\n",
       "      <td>AAUSat-5</td>\n",
       "      <td>NR (12/15)</td>\n",
       "      <td>Denmark</td>\n",
       "      <td>Aalborg University</td>\n",
       "      <td>Civil</td>\n",
       "      <td>Communications</td>\n",
       "      <td>Automatic Identification System (AIS)</td>\n",
       "      <td>LEO</td>\n",
       "      <td>Non-Polar Inclined</td>\n",
       "      <td>255.00</td>\n",
       "      <td>395</td>\n",
       "      <td>409</td>\n",
       "      <td>0.001030</td>\n",
       "      <td>51.64</td>\n",
       "      <td>92.60</td>\n",
       "      <td>1</td>\n",
       "      <td>NaN</td>\n",
       "      <td>NaN</td>\n",
       "      <td>2015-10-02</td>\n",
       "      <td>NaN</td>\n",
       "      <td>Aalborg University</td>\n",
       "      <td>Denmark</td>\n",
       "      <td>International Space Station</td>\n",
       "      <td>Nanorack Deployer</td>\n",
       "      <td>1998-067GZ</td>\n",
       "      <td>40948</td>\n",
       "      <td>Main goal is to test a AIS receiver built by s...</td>\n",
       "      <td>2015</td>\n",
       "      <td>10</td>\n",
       "      <td>2</td>\n",
       "      <td>(Aalborg University Cubesat 5)</td>\n",
       "      <td>4.450590</td>\n",
       "      <td>6780</td>\n",
       "      <td>6766</td>\n",
       "      <td>13546</td>\n",
       "      <td>6773.0</td>\n",
       "      <td>14</td>\n",
       "      <td>13545.992765</td>\n",
       "      <td>6772.996383</td>\n",
       "      <td>0.001133</td>\n",
       "      <td>5547.312305</td>\n",
       "      <td>5556.0</td>\n",
       "      <td>3929.346216</td>\n",
       "      <td>15.409201</td>\n",
       "      <td>3929.346216</td>\n",
       "      <td>4.450590</td>\n",
       "      <td>7.0</td>\n",
       "      <td>4.449595</td>\n",
       "      <td>1.834585</td>\n",
       "      <td>3.669170</td>\n",
       "      <td>6.284180</td>\n",
       "      <td>0.000995</td>\n",
       "      <td>403.812272</td>\n",
       "      <td>-5852.071210</td>\n",
       "      <td>-3409.806320</td>\n",
       "    </tr>\n",
       "    <tr>\n",
       "      <th>1</th>\n",
       "      <td>ABS-2</td>\n",
       "      <td>NR</td>\n",
       "      <td>Multinational</td>\n",
       "      <td>Asia Broadcast Satellite Ltd.</td>\n",
       "      <td>Commercial</td>\n",
       "      <td>Communications</td>\n",
       "      <td>NaN</td>\n",
       "      <td>GEO</td>\n",
       "      <td>NaN</td>\n",
       "      <td>75.00</td>\n",
       "      <td>35778</td>\n",
       "      <td>35793</td>\n",
       "      <td>0.000178</td>\n",
       "      <td>0.08</td>\n",
       "      <td>1436.03</td>\n",
       "      <td>6330</td>\n",
       "      <td>NaN</td>\n",
       "      <td>16000</td>\n",
       "      <td>2014-02-06</td>\n",
       "      <td>15</td>\n",
       "      <td>Space Systems/Loral</td>\n",
       "      <td>USA</td>\n",
       "      <td>Guiana Space Center</td>\n",
       "      <td>Ariane  5 ECA</td>\n",
       "      <td>2014-006A</td>\n",
       "      <td>39508</td>\n",
       "      <td>32 C-band 51 Ku-band and 6 Ka-band transponder...</td>\n",
       "      <td>2014</td>\n",
       "      <td>2</td>\n",
       "      <td>6</td>\n",
       "      <td>(Koreasat-8 ST-3)</td>\n",
       "      <td>1.308997</td>\n",
       "      <td>42164</td>\n",
       "      <td>42149</td>\n",
       "      <td>84313</td>\n",
       "      <td>42156.5</td>\n",
       "      <td>15</td>\n",
       "      <td>84312.998666</td>\n",
       "      <td>42156.499333</td>\n",
       "      <td>0.000073</td>\n",
       "      <td>86140.586331</td>\n",
       "      <td>86161.8</td>\n",
       "      <td>17945.955486</td>\n",
       "      <td>239.279406</td>\n",
       "      <td>17945.955486</td>\n",
       "      <td>1.308997</td>\n",
       "      <td>7.5</td>\n",
       "      <td>1.309169</td>\n",
       "      <td>1.309341</td>\n",
       "      <td>2.618682</td>\n",
       "      <td>2.618510</td>\n",
       "      <td>0.000172</td>\n",
       "      <td>35783.559105</td>\n",
       "      <td>-36523.088472</td>\n",
       "      <td>21053.134843</td>\n",
       "    </tr>\n",
       "    <tr>\n",
       "      <th>2</th>\n",
       "      <td>ABS-3</td>\n",
       "      <td>Philippines</td>\n",
       "      <td>Multinational</td>\n",
       "      <td>Asia Broadcast Satellite Ltd.</td>\n",
       "      <td>Commercial</td>\n",
       "      <td>Communications</td>\n",
       "      <td>NaN</td>\n",
       "      <td>GEO</td>\n",
       "      <td>NaN</td>\n",
       "      <td>146.06</td>\n",
       "      <td>35769</td>\n",
       "      <td>35802</td>\n",
       "      <td>0.000391</td>\n",
       "      <td>0.05</td>\n",
       "      <td>1436.07</td>\n",
       "      <td>3775</td>\n",
       "      <td>1800</td>\n",
       "      <td>9000</td>\n",
       "      <td>1997-08-19</td>\n",
       "      <td>15</td>\n",
       "      <td>Space Systems/Loral</td>\n",
       "      <td>USA</td>\n",
       "      <td>Xichang Satellite Launch Center</td>\n",
       "      <td>Long March CZ3B</td>\n",
       "      <td>1997-042A</td>\n",
       "      <td>24901</td>\n",
       "      <td>Most powerful telecommunications satellite in ...</td>\n",
       "      <td>1997</td>\n",
       "      <td>8</td>\n",
       "      <td>19</td>\n",
       "      <td>(Agila 2 Mabuhay 1)</td>\n",
       "      <td>2.549228</td>\n",
       "      <td>42173</td>\n",
       "      <td>42140</td>\n",
       "      <td>84313</td>\n",
       "      <td>42156.5</td>\n",
       "      <td>33</td>\n",
       "      <td>84312.993542</td>\n",
       "      <td>42156.496771</td>\n",
       "      <td>0.000073</td>\n",
       "      <td>86140.586331</td>\n",
       "      <td>86164.2</td>\n",
       "      <td>34949.150110</td>\n",
       "      <td>239.279406</td>\n",
       "      <td>34949.150110</td>\n",
       "      <td>2.549228</td>\n",
       "      <td>16.5</td>\n",
       "      <td>2.549446</td>\n",
       "      <td>2.549664</td>\n",
       "      <td>5.099329</td>\n",
       "      <td>5.099110</td>\n",
       "      <td>0.000218</td>\n",
       "      <td>35799.176838</td>\n",
       "      <td>15908.013961</td>\n",
       "      <td>-39039.791887</td>\n",
       "    </tr>\n",
       "    <tr>\n",
       "      <th>3</th>\n",
       "      <td>ABS-3A</td>\n",
       "      <td>NR</td>\n",
       "      <td>Multinational</td>\n",
       "      <td>Asia Broadcast Satellite Ltd.</td>\n",
       "      <td>Commercial</td>\n",
       "      <td>Communications</td>\n",
       "      <td>NaN</td>\n",
       "      <td>GEO</td>\n",
       "      <td>NaN</td>\n",
       "      <td>357.00</td>\n",
       "      <td>35788</td>\n",
       "      <td>35803</td>\n",
       "      <td>0.000178</td>\n",
       "      <td>0.10</td>\n",
       "      <td>1436.00</td>\n",
       "      <td>2000</td>\n",
       "      <td>NaN</td>\n",
       "      <td>NaN</td>\n",
       "      <td>2015-03-02</td>\n",
       "      <td>15</td>\n",
       "      <td>Boeing Satellite Systems</td>\n",
       "      <td>NaN</td>\n",
       "      <td>Cape Canaveral</td>\n",
       "      <td>Falcon 9</td>\n",
       "      <td>2015-010A</td>\n",
       "      <td>40424</td>\n",
       "      <td>Coverage of Americas Europe and Africa.</td>\n",
       "      <td>2015</td>\n",
       "      <td>3</td>\n",
       "      <td>2</td>\n",
       "      <td>NaN</td>\n",
       "      <td>6.230825</td>\n",
       "      <td>42174</td>\n",
       "      <td>42159</td>\n",
       "      <td>84333</td>\n",
       "      <td>42166.5</td>\n",
       "      <td>15</td>\n",
       "      <td>84332.998666</td>\n",
       "      <td>42166.499333</td>\n",
       "      <td>0.000073</td>\n",
       "      <td>86171.238435</td>\n",
       "      <td>86160.0</td>\n",
       "      <td>85453.144782</td>\n",
       "      <td>239.364551</td>\n",
       "      <td>85453.144782</td>\n",
       "      <td>6.230825</td>\n",
       "      <td>7.5</td>\n",
       "      <td>6.230816</td>\n",
       "      <td>0.052379</td>\n",
       "      <td>0.104757</td>\n",
       "      <td>6.283195</td>\n",
       "      <td>0.000009</td>\n",
       "      <td>35788.004653</td>\n",
       "      <td>41935.343194</td>\n",
       "      <td>4409.162372</td>\n",
       "    </tr>\n",
       "    <tr>\n",
       "      <th>4</th>\n",
       "      <td>ABS-4</td>\n",
       "      <td>NR</td>\n",
       "      <td>Multinational</td>\n",
       "      <td>Asia Broadcast Satellite Ltd.</td>\n",
       "      <td>Commercial</td>\n",
       "      <td>Communications</td>\n",
       "      <td>NaN</td>\n",
       "      <td>GEO</td>\n",
       "      <td>NaN</td>\n",
       "      <td>75.00</td>\n",
       "      <td>35780</td>\n",
       "      <td>35793</td>\n",
       "      <td>0.000154</td>\n",
       "      <td>0.01</td>\n",
       "      <td>1436.10</td>\n",
       "      <td>4143</td>\n",
       "      <td>1700</td>\n",
       "      <td>7400</td>\n",
       "      <td>2004-03-13</td>\n",
       "      <td>12</td>\n",
       "      <td>Space Systems/Loral</td>\n",
       "      <td>USA</td>\n",
       "      <td>Cape Canaveral</td>\n",
       "      <td>Atlas 3</td>\n",
       "      <td>2004-007A</td>\n",
       "      <td>28184</td>\n",
       "      <td>Purchased by ABS in 2013.</td>\n",
       "      <td>2004</td>\n",
       "      <td>3</td>\n",
       "      <td>13</td>\n",
       "      <td>(ABS-2i MBSat Mobile Broadcasting Satellite Ha...</td>\n",
       "      <td>1.308997</td>\n",
       "      <td>42164</td>\n",
       "      <td>42151</td>\n",
       "      <td>84315</td>\n",
       "      <td>42157.5</td>\n",
       "      <td>13</td>\n",
       "      <td>84314.998998</td>\n",
       "      <td>42157.499499</td>\n",
       "      <td>0.000073</td>\n",
       "      <td>86143.651378</td>\n",
       "      <td>86166.0</td>\n",
       "      <td>17946.594037</td>\n",
       "      <td>239.287920</td>\n",
       "      <td>17946.594037</td>\n",
       "      <td>1.308997</td>\n",
       "      <td>6.5</td>\n",
       "      <td>1.309146</td>\n",
       "      <td>1.309294</td>\n",
       "      <td>2.618589</td>\n",
       "      <td>2.618440</td>\n",
       "      <td>0.000149</td>\n",
       "      <td>35784.820614</td>\n",
       "      <td>-36522.002194</td>\n",
       "      <td>21057.021428</td>\n",
       "    </tr>\n",
       "  </tbody>\n",
       "</table>\n",
       "</div>"
      ],
      "text/plain": [
       "        name  country_reg        country                          owner  \\\n",
       "0  AAUSat-5    NR (12/15)        Denmark             Aalborg University   \n",
       "1     ABS-2            NR  Multinational  Asia Broadcast Satellite Ltd.   \n",
       "2     ABS-3   Philippines  Multinational  Asia Broadcast Satellite Ltd.   \n",
       "3    ABS-3A            NR  Multinational  Asia Broadcast Satellite Ltd.   \n",
       "4     ABS-4            NR  Multinational  Asia Broadcast Satellite Ltd.   \n",
       "\n",
       "        users         purpose                            description  CLO  \\\n",
       "0       Civil  Communications  Automatic Identification System (AIS)  LEO   \n",
       "1  Commercial  Communications                                    NaN  GEO   \n",
       "2  Commercial  Communications                                    NaN  GEO   \n",
       "3  Commercial  Communications                                    NaN  GEO   \n",
       "4  Commercial  Communications                                    NaN  GEO   \n",
       "\n",
       "                  TOO  longitude  perigee_km  apogee_km  eccentricity  \\\n",
       "0  Non-Polar Inclined     255.00         395        409      0.001030   \n",
       "1                 NaN      75.00       35778      35793      0.000178   \n",
       "2                 NaN     146.06       35769      35802      0.000391   \n",
       "3                 NaN     357.00       35788      35803      0.000178   \n",
       "4                 NaN      75.00       35780      35793      0.000154   \n",
       "\n",
       "   inclination  period_minutes  launch_mass  dry_mass  power_watts  \\\n",
       "0        51.64           92.60            1       NaN          NaN   \n",
       "1         0.08         1436.03         6330       NaN        16000   \n",
       "2         0.05         1436.07         3775      1800         9000   \n",
       "3         0.10         1436.00         2000       NaN          NaN   \n",
       "4         0.01         1436.10         4143      1700         7400   \n",
       "\n",
       "  launch_date  expected_lifetime_years                contractor  \\\n",
       "0  2015-10-02                      NaN        Aalborg University   \n",
       "1  2014-02-06                       15       Space Systems/Loral   \n",
       "2  1997-08-19                       15       Space Systems/Loral   \n",
       "3  2015-03-02                       15  Boeing Satellite Systems   \n",
       "4  2004-03-13                       12       Space Systems/Loral   \n",
       "\n",
       "  contractor_country                      launch_site     launch_vehicle  \\\n",
       "0            Denmark      International Space Station  Nanorack Deployer   \n",
       "1                USA              Guiana Space Center      Ariane  5 ECA   \n",
       "2                USA  Xichang Satellite Launch Center    Long March CZ3B   \n",
       "3                NaN                   Cape Canaveral           Falcon 9   \n",
       "4                USA                   Cape Canaveral            Atlas 3   \n",
       "\n",
       "       COSPAR  NORAD                                           comments  \\\n",
       "0  1998-067GZ  40948  Main goal is to test a AIS receiver built by s...   \n",
       "1   2014-006A  39508  32 C-band 51 Ku-band and 6 Ka-band transponder...   \n",
       "2   1997-042A  24901  Most powerful telecommunications satellite in ...   \n",
       "3   2015-010A  40424            Coverage of Americas Europe and Africa.   \n",
       "4   2004-007A  28184                          Purchased by ABS in 2013.   \n",
       "\n",
       "   launch_year  launch_month  launch_day  \\\n",
       "0         2015            10           2   \n",
       "1         2014             2           6   \n",
       "2         1997             8          19   \n",
       "3         2015             3           2   \n",
       "4         2004             3          13   \n",
       "\n",
       "                                            nickname   radians  apogeeR  \\\n",
       "0                     (Aalborg University Cubesat 5)  4.450590     6780   \n",
       "1                                  (Koreasat-8 ST-3)  1.308997    42164   \n",
       "2                                (Agila 2 Mabuhay 1)  2.549228    42173   \n",
       "3                                                NaN  6.230825    42174   \n",
       "4  (ABS-2i MBSat Mobile Broadcasting Satellite Ha...  1.308997    42164   \n",
       "\n",
       "   perigeeR  majorA  semimajorA  fDistance        minorA    semiminorA  \\\n",
       "0      6766   13546      6773.0         14  13545.992765   6772.996383   \n",
       "1     42149   84313     42156.5         15  84312.998666  42156.499333   \n",
       "2     42140   84313     42156.5         33  84312.993542  42156.496771   \n",
       "3     42159   84333     42166.5         15  84332.998666  42166.499333   \n",
       "4     42151   84315     42157.5         13  84314.998998  42157.499499   \n",
       "\n",
       "   meanmotion  period_seconds  simple_seconds        T_long  \\\n",
       "0    0.001133     5547.312305          5556.0   3929.346216   \n",
       "1    0.000073    86140.586331         86161.8  17945.955486   \n",
       "2    0.000073    86140.586331         86164.2  34949.150110   \n",
       "3    0.000073    86171.238435         86160.0  85453.144782   \n",
       "4    0.000073    86143.651378         86166.0  17946.594037   \n",
       "\n",
       "   sec_per_longdegree  time_till_longitude  meanAnom  Efromcenter  \\\n",
       "0           15.409201          3929.346216  4.450590          7.0   \n",
       "1          239.279406         17945.955486  1.308997          7.5   \n",
       "2          239.279406         34949.150110  2.549228         16.5   \n",
       "3          239.364551         85453.144782  6.230825          7.5   \n",
       "4          239.287920         17946.594037  1.308997          6.5   \n",
       "\n",
       "   eccentricAnom  trueAnom  trueAnomadj  trueAnomadj2  flightpath  \\\n",
       "0       4.449595  1.834585     3.669170      6.284180    0.000995   \n",
       "1       1.309169  1.309341     2.618682      2.618510    0.000172   \n",
       "2       2.549446  2.549664     5.099329      5.099110    0.000218   \n",
       "3       6.230816  0.052379     0.104757      6.283195    0.000009   \n",
       "4       1.309146  1.309294     2.618589      2.618440    0.000149   \n",
       "\n",
       "     distanceAt         cartX         cartY  \n",
       "0    403.812272  -5852.071210  -3409.806320  \n",
       "1  35783.559105 -36523.088472  21053.134843  \n",
       "2  35799.176838  15908.013961 -39039.791887  \n",
       "3  35788.004653  41935.343194   4409.162372  \n",
       "4  35784.820614 -36522.002194  21057.021428  "
      ]
     },
     "execution_count": 926,
     "metadata": {},
     "output_type": "execute_result"
    }
   ],
   "source": [
    "data.head()"
   ]
  },
  {
   "cell_type": "code",
   "execution_count": 918,
   "metadata": {
    "collapsed": false
   },
   "outputs": [],
   "source": [
    "data.to_csv('CSatellites.csv')"
   ]
  },
  {
   "cell_type": "code",
   "execution_count": 919,
   "metadata": {
    "collapsed": false
   },
   "outputs": [],
   "source": [
    "#Split data by type of orbit\n",
    "LEO = data[data.CLO.isin([\"LEO\"])] #Low Earth orbit\n",
    "GEO = data[data.CLO.isin([\"GEO\"])] #Geosynchronous\n",
    "MEO_Elliptical = data[data.CLO.isin([\"MEO\", \"Elliptical\"])] #Medium earth orbit and Elliptical \n",
    "\n",
    "\n",
    "\n"
   ]
  },
  {
   "cell_type": "code",
   "execution_count": 920,
   "metadata": {
    "collapsed": false
   },
   "outputs": [],
   "source": [
    "#Move cislunar satellite into Elliptical MEO group\n",
    "cis = data[data.TOO.isin([\"Cislunar\"])]\n",
    "frames = [MEO_Elliptical, cis]\n",
    "MEO_Elliptical = pd.concat(frames)"
   ]
  },
  {
   "cell_type": "code",
   "execution_count": 921,
   "metadata": {
    "collapsed": false
   },
   "outputs": [
    {
     "data": {
      "text/plain": [
       "Non-Polar Inclined       80\n",
       "Molniya                  15\n",
       "Equatorial               12\n",
       "Deep Highly Eccentric     9\n",
       "Cislunar                  1\n",
       "Name: TOO, dtype: int64"
      ]
     },
     "execution_count": 921,
     "metadata": {},
     "output_type": "execute_result"
    }
   ],
   "source": [
    "MEO_Elliptical.TOO.value_counts()"
   ]
  },
  {
   "cell_type": "code",
   "execution_count": 922,
   "metadata": {
    "collapsed": false
   },
   "outputs": [],
   "source": [
    "#Split Low earth orbit into sun-synchronous and other\n",
    "LEO_sun = LEO[LEO.TOO.isin([\"Sun-Synchronous\"])]"
   ]
  },
  {
   "cell_type": "code",
   "execution_count": 923,
   "metadata": {
    "collapsed": false,
    "scrolled": true
   },
   "outputs": [],
   "source": [
    "LEO_other = LEO[LEO.TOO.isin([\"Non-Polar Inclined\", \"Polar\", \"Equatorial\", \"Elliptical\"])]"
   ]
  },
  {
   "cell_type": "code",
   "execution_count": 924,
   "metadata": {
    "collapsed": false
   },
   "outputs": [],
   "source": [
    "LEO_sun.to_csv(\"LEO_sun.csv\")\n",
    "LEO_other.to_csv(\"LEO_other.csv\")\n",
    "GEO.to_csv(\"GEO.csv\")\n",
    "MEO_Elliptical.to_csv(\"MEO_Elliptical.csv\")"
   ]
  },
  {
   "cell_type": "code",
   "execution_count": 925,
   "metadata": {
    "collapsed": false
   },
   "outputs": [
    {
     "data": {
      "text/plain": [
       "2015    86\n",
       "2013    50\n",
       "1998    48\n",
       "1997    38\n",
       "2014    24\n",
       "2011    22\n",
       "1999    21\n",
       "2012    19\n",
       "2010    19\n",
       "2007    17\n",
       "2002    16\n",
       "2008     9\n",
       "2006     8\n",
       "2005     7\n",
       "2009     6\n",
       "2001     5\n",
       "2003     4\n",
       "2004     4\n",
       "2000     2\n",
       "1996     1\n",
       "1993     1\n",
       "1990     1\n",
       "1989     1\n",
       "1974     1\n",
       "Name: launch_year, dtype: int64"
      ]
     },
     "execution_count": 925,
     "metadata": {},
     "output_type": "execute_result"
    }
   ],
   "source": [
    "LEO_other.launch_year.value_counts()"
   ]
  },
  {
   "cell_type": "code",
   "execution_count": null,
   "metadata": {
    "collapsed": true
   },
   "outputs": [],
   "source": []
  }
 ],
 "metadata": {
  "kernelspec": {
   "display_name": "Python 3",
   "language": "python",
   "name": "python3"
  },
  "language_info": {
   "codemirror_mode": {
    "name": "ipython",
    "version": 3
   },
   "file_extension": ".py",
   "mimetype": "text/x-python",
   "name": "python",
   "nbconvert_exporter": "python",
   "pygments_lexer": "ipython3",
   "version": "3.5.1"
  }
 },
 "nbformat": 4,
 "nbformat_minor": 0
}
